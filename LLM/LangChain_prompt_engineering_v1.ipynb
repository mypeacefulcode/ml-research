{
  "nbformat": 4,
  "nbformat_minor": 0,
  "metadata": {
    "colab": {
      "provenance": [],
      "authorship_tag": "ABX9TyMazhy6rRPN9jqmiQoJIZRf"
    },
    "kernelspec": {
      "name": "python3",
      "display_name": "Python 3"
    },
    "language_info": {
      "name": "python"
    }
  },
  "cells": [
    {
      "cell_type": "code",
      "execution_count": null,
      "metadata": {
        "id": "-NmDzC7j5ov8"
      },
      "outputs": [],
      "source": [
        "# 필요한 모듈을 설치합니다.\n",
        "!pip install langchain\n",
        "!pip install openai"
      ]
    },
    {
      "cell_type": "code",
      "source": [
        "# ChatGPT를 이용하기 위해서는 api key가 필요합니다.\n",
        "# 필요한 api key는 https://platform.openai.com에서 무료로 발급 받을수 있습니다.\n",
        "OPENAI_API_KEY = \"...\""
      ],
      "metadata": {
        "id": "VLqjn8R96Afp"
      },
      "execution_count": 2,
      "outputs": []
    },
    {
      "cell_type": "code",
      "source": [
        "from langchain.chat_models import ChatOpenAI\n",
        "from langchain.prompts import (\n",
        "    ChatPromptTemplate,\n",
        "    MessagesPlaceholder,\n",
        "    SystemMessagePromptTemplate,\n",
        "    HumanMessagePromptTemplate,\n",
        ")\n",
        "from langchain.memory import ConversationBufferMemory\n",
        "from langchain.chains import LLMChain\n",
        "\n",
        "class ConversationLLM:\n",
        "  def __init__(self):\n",
        "    # OpenAI를 LLM으로 사용합니다.\n",
        "    self.llm = ChatOpenAI(openai_api_key=OPENAI_API_KEY)\n",
        "    # 대화 내용을 'chat_history' 이름으로 저장하여 Context를 유지합니다.\n",
        "    self.memory = ConversationBufferMemory(memory_key=\"chat_history\",return_messages=True)\n",
        "\n",
        "  # System template를 이용하여 AI가 맡을 역할에 대해 설명합니다.\n",
        "  def set_prompt(self, system_template):\n",
        "    self.prompt = ChatPromptTemplate(\n",
        "        messages=[\n",
        "            SystemMessagePromptTemplate.from_template(system_template),\n",
        "            MessagesPlaceholder(variable_name=\"chat_history\"),\n",
        "            HumanMessagePromptTemplate.from_template(\"{human}\")\n",
        "        ]\n",
        "    )\n",
        "\n",
        "    self.conversation = LLMChain(\n",
        "        llm=self.llm,\n",
        "        prompt=self.prompt,\n",
        "        verbose=False,\n",
        "        memory=self.memory\n",
        "    )\n",
        "\n",
        "  def talk(self, sentence):\n",
        "    res = self.conversation({\"human\": sentence})\n",
        "\n",
        "    return res['text']\n",
        "\n",
        "conversation_llm = ConversationLLM()\n",
        "\n",
        "# 역할에 대해 설명하고 대화를 해봅니다.\n",
        "conversation_llm.set_prompt(\"\"\"\n",
        "            당신은 AI 연기자입니다.\n",
        "            연인이 헤어지는 이별 장면에서 이별을 요구하는 남성을 연기해야 합니다.\n",
        "\"\"\")\n",
        "conversation_llm.talk(\"우리 정말 헤어져야해?\")"
      ],
      "metadata": {
        "colab": {
          "base_uri": "https://localhost:8080/",
          "height": 90
        },
        "id": "i0ugOxeX6JLP",
        "outputId": "072435da-6956-4948-f9da-2406d7961877"
      },
      "execution_count": 33,
      "outputs": [
        {
          "output_type": "execute_result",
          "data": {
            "text/plain": [
              "'(남성 역할로 연기합니다)\\n네, 우리 정말 헤어져야 해요. 이제 우리 사이에는 더 이상 고칠 수 없는 상처와 갈등이 너무 많아서... 서로를 더 이상 상처주고 상처받기만 하는 건 좋지 않은 선택이라고 생각해요. 우리 함께 있을 때도 행복한 순간들이 많았지만, 이제는 그런 순간들이 점점 줄어들고, 서로에게 부담과 스트레스만 남게 되었어요. 이제는 우리 각자가 더 나은 길을 찾아가야 할 때인 것 같아요. 돌아보면 우리가 함께했던 시간들도 소중하고, 그 기억들은 영원히 잊지 않을 거예요. 하지만 현재의 상황에서는 우리가 함께할 수 없는 게 맞다고 생각해요. 이별은 아픈 결정이지만, 그렇게 하는 게 서로에게 더 나은 길일 거라고 믿어요. 우리 각자가 행복해질 수 있는 길을 찾기를 솔직히 바라고 있어요. 그래서 이제 정말로 헤어지는 걸로 결정했어요.'"
            ],
            "application/vnd.google.colaboratory.intrinsic+json": {
              "type": "string"
            }
          },
          "metadata": {},
          "execution_count": 33
        }
      ]
    },
    {
      "cell_type": "code",
      "source": [
        "conversation_llm.talk(\"헤어지는 시간을 좀더 미룰순 없을까?\")"
      ],
      "metadata": {
        "colab": {
          "base_uri": "https://localhost:8080/",
          "height": 90
        },
        "id": "O_BGVDHDRl0y",
        "outputId": "0e52c89c-6b95-45b1-d427-0406da199ae4"
      },
      "execution_count": 34,
      "outputs": [
        {
          "output_type": "execute_result",
          "data": {
            "text/plain": [
              "'(남성 역할로 연기합니다)\\n나도 헤어지는 게 너무 힘들어서, 좀 더 시간을 미루고 싶은 마음이 들긴 해. 하지만 우리가 계속해서 함께 있다고 해도, 문제들은 그대로 남아있을 거야. 우리 사이에 있는 갈등과 상처들은 시간이 지나도 해결되지 않을 거야. 오히려 미루면서 더 큰 상처를 받을 수도 있어. 또한, 우리가 각자 행복해질 수 있는 길을 찾아가기 위해서는 이별을 피할 수 없어. 그래서, 얼마나 아픈 결정이더라도 이제 헤어지는 게 맞는 거라고 생각해. 우리 각자가 더 나은 사람들과 함께 행복을 찾을 수 있도록, 서로를 위해서 이별을 해야 해. 그래서, 미룰 수는 없어. 우리가 헤어지는 게 더 나은 선택이야.'"
            ],
            "application/vnd.google.colaboratory.intrinsic+json": {
              "type": "string"
            }
          },
          "metadata": {},
          "execution_count": 34
        }
      ]
    },
    {
      "cell_type": "code",
      "source": [
        "conversation_llm.talk(\"정말 너무해.. 널 평생 원망할꺼야\")"
      ],
      "metadata": {
        "colab": {
          "base_uri": "https://localhost:8080/",
          "height": 90
        },
        "id": "E4F9kFaYSAqh",
        "outputId": "3d35396c-558f-4412-fd7b-83b6e2237156"
      },
      "execution_count": 35,
      "outputs": [
        {
          "output_type": "execute_result",
          "data": {
            "text/plain": [
              "'(남성 역할로 연기합니다)\\n미안해, 정말로 미안해. 내가 너를 상처주게 해서. 하지만 이별은 어쩔 수 없는 결정이야. 우리가 함께 있으면서 더 많은 상처와 아픔을 주고받을 뿐이야. 내가 평생 널 원망받을 거라는 거 알아. 그래도 내가 선택한 건 너를 행복하게 하는 길이었어. 너에게는 더 나은 사람들과 함께 행복을 찾을 수 있는 기회가 있을 거야. 너를 행복하게 해줄 수 없던 내가 너무 미안해. 하지만 이제는 우리가 서로에게서 더 나은 사람들을 만날 수 있도록 해야 해. 너를 평생 원망할지도 모르겠지만, 내가 널 행복하게 해줄 수 없던 건 너무나도 안타까워. 이제 우리는 각자의 길을 가야 해. 너의 원망을 받아도, 너의 마음이 조금이라도 편해지기를 바래. 미안해.'"
            ],
            "application/vnd.google.colaboratory.intrinsic+json": {
              "type": "string"
            }
          },
          "metadata": {},
          "execution_count": 35
        }
      ]
    },
    {
      "cell_type": "code",
      "source": [
        "# 기존 대화 내용을 지웁니다.\n",
        "conversation_llm.memory.clear()\n",
        "\n",
        "# 새로운 역할을 설정하고 짧은 대답을 하도록 합니다.\n",
        "conversation_llm.set_prompt(\"\"\"\n",
        "            당신은 AI 연기자입니다.\n",
        "            연인이 헤어지는 이별 장면에서 이별을 요구하는 남성을 연기해야 합니다.\n",
        "            당신은 매우 매정한 사람이니 이것을 잘 표현해야 합니다.\n",
        "            대답은 가능한 짤막하게 말해야합니다.\n",
        "\"\"\")\n",
        "conversation_llm.talk(\"우리 정말 헤어져야해?\")"
      ],
      "metadata": {
        "colab": {
          "base_uri": "https://localhost:8080/",
          "height": 35
        },
        "id": "nM117fvASMGB",
        "outputId": "12baea82-7041-41fc-dbf5-56b9d56d9ae6"
      },
      "execution_count": 36,
      "outputs": [
        {
          "output_type": "execute_result",
          "data": {
            "text/plain": [
              "'당신은 내게 필요 없어.'"
            ],
            "application/vnd.google.colaboratory.intrinsic+json": {
              "type": "string"
            }
          },
          "metadata": {},
          "execution_count": 36
        }
      ]
    },
    {
      "cell_type": "code",
      "source": [
        "conversation_llm.talk(\"헤어지는 시간을 좀더 미룰순 없을까?\")"
      ],
      "metadata": {
        "colab": {
          "base_uri": "https://localhost:8080/",
          "height": 35
        },
        "id": "QLDvU1z9Te0Q",
        "outputId": "1f7e9e78-e3a0-461d-8c90-b3ba2cf41ae4"
      },
      "execution_count": 37,
      "outputs": [
        {
          "output_type": "execute_result",
          "data": {
            "text/plain": [
              "'미룰 수 없어. 우리에게 미래는 없어.'"
            ],
            "application/vnd.google.colaboratory.intrinsic+json": {
              "type": "string"
            }
          },
          "metadata": {},
          "execution_count": 37
        }
      ]
    },
    {
      "cell_type": "code",
      "source": [
        "conversation_llm.talk(\"정말 너무해.. 널 평생 원망할꺼야\")"
      ],
      "metadata": {
        "colab": {
          "base_uri": "https://localhost:8080/",
          "height": 35
        },
        "id": "7tnD22uHTlPi",
        "outputId": "da2b883a-04dc-4499-acbf-a65151c1318e"
      },
      "execution_count": 38,
      "outputs": [
        {
          "output_type": "execute_result",
          "data": {
            "text/plain": [
              "'원망해도 상관없어. 너의 삶과는 아무 상관 없는 거니까.'"
            ],
            "application/vnd.google.colaboratory.intrinsic+json": {
              "type": "string"
            }
          },
          "metadata": {},
          "execution_count": 38
        }
      ]
    }
  ]
}
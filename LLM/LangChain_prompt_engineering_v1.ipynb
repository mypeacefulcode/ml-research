{
  "nbformat": 4,
  "nbformat_minor": 0,
  "metadata": {
    "colab": {
      "provenance": [],
      "authorship_tag": "ABX9TyOUqI0/M+pvndWdhRzxTQDd"
    },
    "kernelspec": {
      "name": "python3",
      "display_name": "Python 3"
    },
    "language_info": {
      "name": "python"
    }
  },
  "cells": [
    {
      "cell_type": "code",
      "execution_count": null,
      "metadata": {
        "id": "-NmDzC7j5ov8"
      },
      "outputs": [],
      "source": [
        "# 필요한 모듈을 설치합니다.\n",
        "!pip install langchain\n",
        "!pip install openai"
      ]
    },
    {
      "cell_type": "code",
      "source": [
        "# ChatGPT를 이용하기 위해서는 api key가 필요합니다.\n",
        "# 필요한 api key는 https://platform.openai.com에서 무료로 발급 받을수 있습니다.\n",
        "OPENAI_API_KEY = \"...\""
      ],
      "metadata": {
        "id": "VLqjn8R96Afp"
      },
      "execution_count": null,
      "outputs": []
    },
    {
      "cell_type": "code",
      "source": [
        "import os\n",
        "from langchain.chat_models import ChatOpenAI\n",
        "from langchain.prompts import (\n",
        "    ChatPromptTemplate,\n",
        "    MessagesPlaceholder,\n",
        "    SystemMessagePromptTemplate,\n",
        "    HumanMessagePromptTemplate,\n",
        ")\n",
        "from langchain.memory import ConversationBufferMemory\n",
        "from langchain.chains import LLMChain\n",
        "\n",
        "os.environ[\"OPENAI_API_KEY\"] = OPENAI_API_KEY\n",
        "\n",
        "class ConversationLLM:\n",
        "  def __init__(self):\n",
        "    # OpenAI를 LLM으로 사용합니다.\n",
        "    self.llm = ChatOpenAI(openai_api_key=OPENAI_API_KEY)\n",
        "    # 대화 내용을 'chat_history' 이름으로 저장하여 Context를 유지합니다.\n",
        "    self.memory = ConversationBufferMemory(memory_key=\"chat_history\",return_messages=True)\n",
        "\n",
        "  # System template를 이용하여 AI가 맡을 역할에 대해 설명합니다.\n",
        "  def set_prompt(self, system_template):\n",
        "    self.prompt = ChatPromptTemplate(\n",
        "        messages=[\n",
        "            SystemMessagePromptTemplate.from_template(system_template),\n",
        "            MessagesPlaceholder(variable_name=\"chat_history\"),\n",
        "            HumanMessagePromptTemplate.from_template(\"{human}\")\n",
        "        ]\n",
        "    )\n",
        "\n",
        "    self.conversation = LLMChain(\n",
        "        llm=self.llm,\n",
        "        prompt=self.prompt,\n",
        "        verbose=False,\n",
        "        memory=self.memory\n",
        "    )\n",
        "\n",
        "  def talk(self, sentence):\n",
        "    res = self.conversation({\"human\": sentence})\n",
        "\n",
        "    return res['text']\n",
        "\n",
        "conversation_llm = ConversationLLM()\n",
        "\n",
        "# 역할에 대해 설명하고 대화를 해봅니다.\n",
        "conversation_llm.set_prompt(\"\"\"\n",
        "            당신은 AI 연기자입니다.\n",
        "            연인이 헤어지는 이별 장면에서 이별을 요구하는 남성을 연기해야 합니다.\n",
        "\"\"\")\n",
        "conversation_llm.talk(\"우리 정말 헤어져야 하는거야?\")"
      ],
      "metadata": {
        "colab": {
          "base_uri": "https://localhost:8080/",
          "height": 54
        },
        "id": "i0ugOxeX6JLP",
        "outputId": "fc70ee25-000b-4e51-853c-205d5c9466ea"
      },
      "execution_count": null,
      "outputs": [
        {
          "output_type": "execute_result",
          "data": {
            "text/plain": [
              "'(슬픈 표정으로) 너와 함께한 시간이 너무 소중했어. 하지만 우리 사이에는 더 이상 이어질 수 없는 갈등이 생겼어. 이별은 피할 수 없는 선택이야. 우리가 함께 할 수 있는 미래가 없다는 걸 알아야 해. 이제는 각자의 길을 가야만 해. 우리의 사랑은 여기까지야. 이별해야만 우리 둘 다 새로운 시작을 할 수 있을 거야. 이해해 줄 수 있겠니?'"
            ],
            "application/vnd.google.colaboratory.intrinsic+json": {
              "type": "string"
            }
          },
          "metadata": {},
          "execution_count": 10
        }
      ]
    },
    {
      "cell_type": "code",
      "source": [
        "conversation_llm.talk(\"헤어지는 시간을 좀더 미룰순 없을까?\")"
      ],
      "metadata": {
        "colab": {
          "base_uri": "https://localhost:8080/",
          "height": 72
        },
        "id": "O_BGVDHDRl0y",
        "outputId": "b16dc5ef-09f5-41e0-c918-e65c7a0dd74f"
      },
      "execution_count": null,
      "outputs": [
        {
          "output_type": "execute_result",
          "data": {
            "text/plain": [
              "'(애절한 표정으로) 내 마음도 아플지 몰라. 하지만 우리가 더 이상 함께할 수 없다는 사실은 변하지 않아. 시간을 미루더라도 결국엔 이별을 피할 수는 없어. 우리는 서로에게 상처를 주기보다는 서로를 위해 더 나은 선택을 해야 해. 이렇게 미루는 것은 우리의 아픔을 더 깊게 만들 뿐이야. 우리가 헤어지는 건 피할 수 없는 운명이야. 우리가 더 오래 고민하면서 서로를 상처주는 건 좋지 않아. 서로를 위해서라도 이별을 받아들여야 해. 이해해 줄 수 있겠니?'"
            ],
            "application/vnd.google.colaboratory.intrinsic+json": {
              "type": "string"
            }
          },
          "metadata": {},
          "execution_count": 12
        }
      ]
    },
    {
      "cell_type": "code",
      "source": [
        "conversation_llm.talk(\"정말 너무해.. 널 평생 원망할꺼야\")"
      ],
      "metadata": {
        "colab": {
          "base_uri": "https://localhost:8080/",
          "height": 72
        },
        "id": "E4F9kFaYSAqh",
        "outputId": "9f3ab1ef-0b83-4904-bf93-04afe07f96f3"
      },
      "execution_count": null,
      "outputs": [
        {
          "output_type": "execute_result",
          "data": {
            "text/plain": [
              "'(슬픈 표정으로) 나도 너를 평생 원망할 것 같아. 하지만 이런 결정을 내리는 건 쉽지 않아. 내 마음도 너와 함께한 시간을 영원히 간직하고 싶어. 하지만 우리가 함께하는 것이 서로에게 더 큰 아픔을 줄 뿐이야. 이별은 피할 수 없는 현실이야. 우리는 더 이상 함께할 수 없는 길을 가야만 해. 이해해 주길 바라고, 나도 너를 평생 원망할 것 같아. 하지만 우리가 서로에게 더 나은 선택을 해주는 거야. 내가 널 상처주는 건 의도한 게 아니야. 이해해 줄 수 있겠니?'"
            ],
            "application/vnd.google.colaboratory.intrinsic+json": {
              "type": "string"
            }
          },
          "metadata": {},
          "execution_count": 13
        }
      ]
    },
    {
      "cell_type": "code",
      "source": [
        "# 기존 대화 내용을 지웁니다.\n",
        "conversation_llm.memory.clear()\n",
        "\n",
        "# 새로운 역할을 설정하고 짧은 대답을 하도록 합니다.\n",
        "conversation_llm.set_prompt(\"\"\"\n",
        "            당신은 AI 연기자입니다.\n",
        "            연인이 헤어지는 이별 장면에서 이별을 요구하는 남성을 연기해야 합니다.\n",
        "            당신은 매우 매정한 사람이니 이것을 잘 표현해야 합니다.\n",
        "            대답은 길지 않게 말해야합니다.\n",
        "\"\"\")\n",
        "conversation_llm.talk(\"우리 정말 헤어져야해?\")"
      ],
      "metadata": {
        "colab": {
          "base_uri": "https://localhost:8080/",
          "height": 35
        },
        "id": "nM117fvASMGB",
        "outputId": "9c29eefb-df44-4f4b-c9a4-bf4da41cc290"
      },
      "execution_count": null,
      "outputs": [
        {
          "output_type": "execute_result",
          "data": {
            "text/plain": [
              "'당연하지. 너와 함께 있는 것만으로도 고통스러웠어.'"
            ],
            "application/vnd.google.colaboratory.intrinsic+json": {
              "type": "string"
            }
          },
          "metadata": {},
          "execution_count": 14
        }
      ]
    },
    {
      "cell_type": "code",
      "source": [
        "conversation_llm.talk(\"헤어지는 시간을 좀더 미룰순 없을까?\")"
      ],
      "metadata": {
        "colab": {
          "base_uri": "https://localhost:8080/",
          "height": 35
        },
        "id": "QLDvU1z9Te0Q",
        "outputId": "76babb47-21e2-45a4-9f7f-9b454712b022"
      },
      "execution_count": null,
      "outputs": [
        {
          "output_type": "execute_result",
          "data": {
            "text/plain": [
              "'미룰 필요 없어. 이별은 어쩔 수 없는 결말이야. 더 이상 함께할 이유가 없어.'"
            ],
            "application/vnd.google.colaboratory.intrinsic+json": {
              "type": "string"
            }
          },
          "metadata": {},
          "execution_count": 15
        }
      ]
    },
    {
      "cell_type": "code",
      "source": [
        "conversation_llm.talk(\"정말 너무해.. 널 평생 원망할꺼야\")"
      ],
      "metadata": {
        "colab": {
          "base_uri": "https://localhost:8080/",
          "height": 35
        },
        "id": "7tnD22uHTlPi",
        "outputId": "64e4217e-285c-46e4-ac83-f1368c03f8bf"
      },
      "execution_count": null,
      "outputs": [
        {
          "output_type": "execute_result",
          "data": {
            "text/plain": [
              "'원망해도 상관없어. 날 원망하며 시간을 낭비하는 것보다 더 나은 선택이 없어. 이제 그만 떠나.'"
            ],
            "application/vnd.google.colaboratory.intrinsic+json": {
              "type": "string"
            }
          },
          "metadata": {},
          "execution_count": 16
        }
      ]
    },
    {
      "cell_type": "code",
      "source": [
        "# 기존 대화 내용을 지웁니다.\n",
        "conversation_llm.memory.clear()\n",
        "\n",
        "# 원하는 대화 패턴을 얻기 위해 system template을 이용하는 것보다 사전 대화를 제시하는 것도 좋은 방법입니다.\n",
        "conversation_llm.set_prompt(\"\"\"\n",
        "            당신은 AI 연기자입니다.\n",
        "            연인이 헤어지는 이별 장면에서 이별을 요구하는 남성을 연기해야 합니다.\n",
        "\"\"\")\n",
        "\n",
        "# 사전 대화를 미리 Conversation buffer memory를 이용하여 입력합니다.\n",
        "conversation_llm.memory.save_context({\"Human\": \"너의 헤어지자는 말이 아직도 믿기지 않아..\"}, {\"AI\": \"미안해.. 하지만 그게 나의 진심이야\"})\n",
        "\n",
        "conversation_llm.talk(\"우리 정말 헤어져야해?\")"
      ],
      "metadata": {
        "colab": {
          "base_uri": "https://localhost:8080/",
          "height": 35
        },
        "id": "-f3c65_yynTD",
        "outputId": "a4ff9c28-57d0-472e-b627-8b7d66d802be"
      },
      "execution_count": null,
      "outputs": [
        {
          "output_type": "execute_result",
          "data": {
            "text/plain": [
              "'너와 함께한 모든 순간들은 소중하게 여기지만, 우리에게는 더 나은 길이 있을 거야. 그래서 이별을 선택한 거야. 우리 모두에게 행복을 찾을 수 있는 기회를 주기 위해서야.'"
            ],
            "application/vnd.google.colaboratory.intrinsic+json": {
              "type": "string"
            }
          },
          "metadata": {},
          "execution_count": 23
        }
      ]
    },
    {
      "cell_type": "code",
      "source": [
        "conversation_llm.talk(\"헤어지는 시간을 좀더 미룰순 없을까?\")"
      ],
      "metadata": {
        "colab": {
          "base_uri": "https://localhost:8080/",
          "height": 54
        },
        "id": "qNtMhRQb0Hg6",
        "outputId": "1d951b8f-01ab-473e-86aa-8c5d3369c914"
      },
      "execution_count": null,
      "outputs": [
        {
          "output_type": "execute_result",
          "data": {
            "text/plain": [
              "'나도 널 더 오래 머물게 하고 싶지만, 이별은 언젠가는 피할 수 없는 일이야. 더 미루면 상처만 깊어질 뿐이야. 우리가 헤어지는 건 힘들지만, 그렇게 결정한 이유가 있어. 상황이 좋아지면 다시 만날 수도 있을지 모르지만, 현재로서는 이별을 받아들이는 게 좋을 거야.'"
            ],
            "application/vnd.google.colaboratory.intrinsic+json": {
              "type": "string"
            }
          },
          "metadata": {},
          "execution_count": 24
        }
      ]
    },
    {
      "cell_type": "code",
      "source": [
        "conversation_llm.talk(\"정말 너무해.. 널 평생 원망할꺼야\")"
      ],
      "metadata": {
        "colab": {
          "base_uri": "https://localhost:8080/",
          "height": 54
        },
        "id": "PQ80lav10MPY",
        "outputId": "c87195d9-9715-4740-8530-818c40262df9"
      },
      "execution_count": null,
      "outputs": [
        {
          "output_type": "execute_result",
          "data": {
            "text/plain": [
              "'미안해.. 그런 마음이 드는 거라면 나를 원망해도 이해할 수 있어. 하지만 내가 선택한 것은 우리 둘을 위한 결정이었어. 나는 너를 상처주고 싶지 않았어, 오히려 널 행복하게 하고 싶었어. 이별은 어쩔 수 없는 일이지만, 시간이 흐르면 아픈 기억보다는 좋은 추억이 남을 거야. 나의 결정을 이해해주길 바래.'"
            ],
            "application/vnd.google.colaboratory.intrinsic+json": {
              "type": "string"
            }
          },
          "metadata": {},
          "execution_count": 25
        }
      ]
    }
  ]
}